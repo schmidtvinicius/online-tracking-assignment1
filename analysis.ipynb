{
 "cells": [
  {
   "cell_type": "code",
   "execution_count": 1,
   "metadata": {},
   "outputs": [],
   "source": [
    "import json\n",
    "from tld import get_fld"
   ]
  },
  {
   "cell_type": "code",
   "execution_count": 2,
   "metadata": {},
   "outputs": [],
   "source": [
    "def read_har_file(filepath: str) -> list[dict]:\n",
    "    with open(filepath, 'r') as har_file:\n",
    "        return json.load(har_file)['log']['entries']\n",
    "\n",
    "accept_list = read_har_file('zalando.nl_accept.har')\n",
    "reject_list = read_har_file('zalando.nl_reject.har')"
   ]
  },
  {
   "cell_type": "code",
   "execution_count": 28,
   "metadata": {},
   "outputs": [],
   "source": [
    "def entry_has_header(entry: dict, entry_component: str, header_name: str) -> bool:\n",
    "    valid_entry_components = ('request', 'response')\n",
    "    if entry_component not in valid_entry_components:\n",
    "        raise RuntimeError(f'attr \\'entry_component\\' must be one of {valid_entry_components}')\n",
    "    \n",
    "    for header in entry[entry_component]['headers']:\n",
    "        if header.get('name') == header_name:\n",
    "            return True\n",
    "    return False\n",
    "\n",
    "def is_third_party(first_party_domain: str, entry: dict) -> bool:\n",
    "    return first_party_domain != get_fld(entry['request'].get('url'))\n"
   ]
  },
  {
   "cell_type": "code",
   "execution_count": 37,
   "metadata": {},
   "outputs": [],
   "source": [
    "def produce_dict(har_content: list[dict], domain: str) -> dict:\n",
    "    result_dict = {}\n",
    "    result_dict['num_reqs'] = len(har_content)\n",
    "    result_dict['num_requests_w_cookies'] = len(list(filter(lambda entry: entry_has_header(entry, 'request', 'cookie'), har_content)))\n",
    "    result_dict['num_responses_w_cookies'] = len(list(filter(lambda entry: entry_has_header(entry, 'response', 'set-cookie'), har_content)))\n",
    "    result_dict['third_party_domains'] = list(\n",
    "        set(map(lambda entry: get_fld(entry['request'].get('url')),\n",
    "            filter(lambda entry: is_third_party(domain, entry), har_content))))\n",
    "    return result_dict\n"
   ]
  },
  {
   "cell_type": "code",
   "execution_count": 40,
   "metadata": {},
   "outputs": [
    {
     "data": {
      "text/plain": [
       "['usabilla.com',\n",
       " 'googleadservices.com',\n",
       " 'facebook.com',\n",
       " 'facebook.net',\n",
       " 'd6tizftlrpuof.cloudfront.net',\n",
       " 'doubleclick.net',\n",
       " 'googletagmanager.com',\n",
       " 'google-analytics.com',\n",
       " 'ztat.net',\n",
       " 'usercentrics.eu',\n",
       " 'google.com',\n",
       " 'google.nl']"
      ]
     },
     "execution_count": 40,
     "metadata": {},
     "output_type": "execute_result"
    }
   ],
   "source": [
    "produce_dict(accept_list, 'zalando.nl')['third_party_domains']"
   ]
  },
  {
   "cell_type": "code",
   "execution_count": null,
   "metadata": {},
   "outputs": [],
   "source": []
  }
 ],
 "metadata": {
  "kernelspec": {
   "display_name": "main_env",
   "language": "python",
   "name": "python3"
  },
  "language_info": {
   "codemirror_mode": {
    "name": "ipython",
    "version": 3
   },
   "file_extension": ".py",
   "mimetype": "text/x-python",
   "name": "python",
   "nbconvert_exporter": "python",
   "pygments_lexer": "ipython3",
   "version": "3.12.2"
  }
 },
 "nbformat": 4,
 "nbformat_minor": 2
}
