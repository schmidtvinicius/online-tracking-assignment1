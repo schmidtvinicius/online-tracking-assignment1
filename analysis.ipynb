{
 "cells": [
  {
   "cell_type": "code",
   "execution_count": 1,
   "metadata": {},
   "outputs": [],
   "source": [
    "import json\n",
    "import datetime\n",
    "import email.utils\n",
    "from tld import get_fld, get_tld, get_tld_names"
   ]
  },
  {
   "cell_type": "code",
   "execution_count": 3,
   "metadata": {},
   "outputs": [],
   "source": [
    "def read_json_file(filepath: str) -> list[dict]:\n",
    "    with open(filepath, 'r') as json_file:\n",
    "        return json.load(json_file)\n",
    "\n",
    "accept_list = read_json_file('zalando.nl_accept.har')['log']['entries']\n",
    "reject_list = read_json_file('zalando.nl_reject.har')['log']['entries']\n",
    "domain_map = read_json_file('domain_map.json')"
   ]
  },
  {
   "cell_type": "code",
   "execution_count": 4,
   "metadata": {},
   "outputs": [],
   "source": [
    "def entry_has_header(entry: dict, entry_component: str, header_name: str) -> bool:\n",
    "    valid_entry_components = ('request', 'response')\n",
    "    if entry_component not in valid_entry_components:\n",
    "        raise RuntimeError(f'attr \\'entry_component\\' must be one of {valid_entry_components}')\n",
    "    \n",
    "    for header in entry[entry_component]['headers']:\n",
    "        if header.get('name') == header_name:\n",
    "            return True\n",
    "    return False\n",
    "\n",
    "\n",
    "def is_third_party( entry: dict, first_party_domain: str) -> bool:\n",
    "    return first_party_domain != get_fld(entry['request'].get('url'))\n",
    "\n",
    "\n",
    "def is_age_greater_than(cookie: str, min_age_in_days: int) -> bool:\n",
    "    cookie_attrs = {x[0]: x[1] if(len(x) == 2) else x[0] for x in map(lambda x: x.strip().lower().split('='), cookie.split(';'))}\n",
    "    \n",
    "    if datetime.timedelta(seconds=int(cookie_attrs.get('max-age',0))).days >= min_age_in_days:\n",
    "        return True\n",
    "    \n",
    "    # In order for this script to keep working in the future, we'll compare the expiration date of the cookie \n",
    "    # to the date when the data was collected, instead of comparing it with `datetime.datetime.today()\n",
    "    date_of_collection = datetime.datetime(year=2024, month=2, day=28,tzinfo=datetime.timezone.utc)\n",
    "    expiration_date = email.utils.parsedate_to_datetime(cookie_attrs.get('expires'))\n",
    "    \n",
    "    if (expiration_date - date_of_collection).days >= min_age_in_days:\n",
    "        return True\n",
    "    \n",
    "    return False\n",
    "    \n",
    "\n",
    "def has_tracking_cookies(entry: dict):\n",
    "    for header in entry['response']['headers']:\n",
    "        if header.get('name') == 'set-cookie' and 'samesite=none' in header.get('value').lower() and is_age_greater_than(header.get('value'), 60):\n",
    "            return True\n",
    "    return False\n",
    "\n",
    "\n",
    "def map_entry_to_fld(entry: dict) -> str:\n",
    "    return get_fld(entry['request'].get('url'))\n",
    "\n",
    "\n",
    "def map_entry_to_tld(entry: dict) -> str:\n",
    "    return get_tld(entry['request'].get('url'))\n",
    "\n",
    "\n",
    "def map_entry_to_entity_name(entry: dict) -> str:\n",
    "    entry_fld = map_entry_to_fld(entry)\n",
    "    entity_dict = domain_map.get(entry_fld)\n",
    "\n",
    "    # In my HAR file I found a URL that yielded a wrong fld, when I used `get_tld()` instead of `get_fld()`\n",
    "    # I got the correct match for the entity name. In principle, using the `get_tld()` method should not\n",
    "    # be a problem, since that in the cases where it returns `co.uk` for instance, it will not match with\n",
    "    # any entry in the domain_map file\n",
    "    if entity_dict == None:\n",
    "        entity_dict = domain_map.get(map_entry_to_tld(entry))\n",
    "\n",
    "    return entity_dict.get('entityName', 'unknown')\n",
    "\n",
    "\n",
    "def map_entry_to_summary_dict(entry: dict, first_party_domain: str) -> dict:\n",
    "    summary_dict = {}\n",
    "    url = entry['request'].get('url')\n",
    "    summary_dict['url_first_128_char'] = url[:128] if len(url) > 128 else url\n",
    "    summary_dict['url_domain'] = get_fld(url)\n",
    "    summary_dict['is_third_party'] = is_third_party(entry, first_party_domain)\n",
    "    summary_dict['set_http_cookies'] = entry_has_header(entry, 'response', 'set-cookie')\n",
    "    summary_dict['entity_name'] = map_entry_to_entity_name(entry)\n",
    "\n",
    "    return summary_dict\n",
    "    \n"
   ]
  },
  {
   "cell_type": "code",
   "execution_count": 5,
   "metadata": {},
   "outputs": [],
   "source": [
    "def produce_dict(har_content: list[dict], first_party_domain: str) -> dict:\n",
    "    result_dict = {}\n",
    "    result_dict['num_reqs'] = len(har_content)\n",
    "    result_dict['num_requests_w_cookies'] = len(list(filter(lambda entry: entry_has_header(entry, 'request', 'cookie'), har_content)))\n",
    "    result_dict['num_responses_w_cookies'] = len(list(filter(lambda entry: entry_has_header(entry, 'response', 'set-cookie'), har_content)))\n",
    "    result_dict['third_party_domains'] = list(set(map(map_entry_to_fld, filter(lambda entry: is_third_party(entry, first_party_domain), har_content))))\n",
    "    result_dict['tracker_cookie_domains'] = list(set(map(map_entry_to_fld, filter(has_tracking_cookies, har_content))))\n",
    "    result_dict['third_party_entities'] = list(set(map(map_entry_to_entity_name, har_content)))\n",
    "    result_dict['requests'] = list(map(lambda entry: map_entry_to_summary_dict(entry, first_party_domain), har_content))\n",
    "    return result_dict\n"
   ]
  },
  {
   "cell_type": "code",
   "execution_count": 6,
   "metadata": {},
   "outputs": [],
   "source": [
    "accept_dict = produce_dict(accept_list, 'zalando.nl')\n",
    "reject_dict = produce_dict(reject_list, 'zalando.nl')"
   ]
  }
 ],
 "metadata": {
  "kernelspec": {
   "display_name": "main_env",
   "language": "python",
   "name": "python3"
  },
  "language_info": {
   "codemirror_mode": {
    "name": "ipython",
    "version": 3
   },
   "file_extension": ".py",
   "mimetype": "text/x-python",
   "name": "python",
   "nbconvert_exporter": "python",
   "pygments_lexer": "ipython3",
   "version": "3.12.2"
  }
 },
 "nbformat": 4,
 "nbformat_minor": 2
}
