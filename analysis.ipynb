{
 "cells": [
  {
   "cell_type": "code",
   "execution_count": 2,
   "metadata": {},
   "outputs": [],
   "source": [
    "import json\n",
    "from tld import get_fld"
   ]
  },
  {
   "cell_type": "code",
   "execution_count": 3,
   "metadata": {},
   "outputs": [],
   "source": [
    "def read_har_file(filepath: str) -> list[dict]:\n",
    "    with open(filepath, 'r') as har_file:\n",
    "        return json.load(har_file)['log']['entries']\n",
    "\n",
    "accept_list = read_har_file('zalando.nl_accept.har')\n",
    "reject_list = read_har_file('zalando.nl_reject.har')"
   ]
  },
  {
   "cell_type": "code",
   "execution_count": 4,
   "metadata": {},
   "outputs": [],
   "source": [
    "def entry_has_header(entry: dict, entry_component: str, header_name: str) -> bool:\n",
    "    valid_entry_components = ('request', 'response')\n",
    "    if entry_component not in valid_entry_components:\n",
    "        raise RuntimeError(f'attr \\'entry_component\\' must be one of {valid_entry_components}')\n",
    "    \n",
    "    for header in entry[entry_component]['headers']:\n",
    "        if header.get('name') == header_name:\n",
    "            return True\n",
    "    return False\n",
    "\n",
    "def is_third_party(first_party_domain: str, entry: dict) -> bool:\n",
    "    return first_party_domain != get_fld(entry['request'].get('url'))\n",
    "\n",
    "def is_age_greater_than(cookie: str, min_age: int) -> bool:\n",
    "    cookie_attrs = cookie.split(';')\n",
    "\n",
    "def has_tracking_cookies(entry: dict):\n",
    "    for header in entry['responde']['headers']:\n",
    "        if header.get('name') == 'set-cookie' and 'SameSite=None' in header.get('value') and is_age_greater_than(header.get('value', 60)):\n",
    "            return True\n",
    "    return False"
   ]
  },
  {
   "cell_type": "code",
   "execution_count": 5,
   "metadata": {},
   "outputs": [],
   "source": [
    "def produce_dict(har_content: list[dict], domain: str) -> dict:\n",
    "    result_dict = {}\n",
    "    result_dict['num_reqs'] = len(har_content)\n",
    "    result_dict['num_requests_w_cookies'] = len(list(filter(lambda entry: entry_has_header(entry, 'request', 'cookie'), har_content)))\n",
    "    result_dict['num_responses_w_cookies'] = len(list(filter(lambda entry: entry_has_header(entry, 'response', 'set-cookie'), har_content)))\n",
    "    result_dict['third_party_domains'] = list(\n",
    "        set(map(lambda entry: get_fld(entry['request'].get('url')),\n",
    "            filter(lambda entry: is_third_party(domain, entry), har_content))))\n",
    "    return result_dict\n"
   ]
  },
  {
   "cell_type": "code",
   "execution_count": 6,
   "metadata": {},
   "outputs": [
    {
     "data": {
      "text/plain": [
       "{'num_reqs': 556,\n",
       " 'num_requests_w_cookies': 124,\n",
       " 'num_responses_w_cookies': 98,\n",
       " 'third_party_domains': ['usercentrics.eu',\n",
       "  'googleadservices.com',\n",
       "  'd6tizftlrpuof.cloudfront.net',\n",
       "  'google.com',\n",
       "  'doubleclick.net',\n",
       "  'google.nl',\n",
       "  'ztat.net',\n",
       "  'facebook.net',\n",
       "  'googletagmanager.com',\n",
       "  'usabilla.com',\n",
       "  'facebook.com',\n",
       "  'google-analytics.com']}"
      ]
     },
     "execution_count": 6,
     "metadata": {},
     "output_type": "execute_result"
    }
   ],
   "source": [
    "produce_dict(accept_list, 'zalando.nl')"
   ]
  },
  {
   "cell_type": "code",
   "execution_count": 11,
   "metadata": {},
   "outputs": [
    {
     "data": {
      "text/plain": [
       "['fvgs_ml=mosaic',\n",
       " 'Path=/',\n",
       " 'Domain=zalando.nl',\n",
       " 'Expires=Fri, 08 Mar 2024 14:00:54 GMT',\n",
       " 'Max-Age=777600',\n",
       " 'Secure']"
      ]
     },
     "execution_count": 11,
     "metadata": {},
     "output_type": "execute_result"
    }
   ],
   "source": [
    "list(map(lambda x: x.strip(),\"fvgs_ml=mosaic; Path=/; Domain=zalando.nl; Expires=Fri, 08 Mar 2024 14:00:54 GMT; Max-Age=777600; Secure\".split(';')))"
   ]
  },
  {
   "cell_type": "code",
   "execution_count": null,
   "metadata": {},
   "outputs": [],
   "source": []
  }
 ],
 "metadata": {
  "kernelspec": {
   "display_name": "main_env",
   "language": "python",
   "name": "python3"
  },
  "language_info": {
   "codemirror_mode": {
    "name": "ipython",
    "version": 3
   },
   "file_extension": ".py",
   "mimetype": "text/x-python",
   "name": "python",
   "nbconvert_exporter": "python",
   "pygments_lexer": "ipython3",
   "version": "3.12.2"
  }
 },
 "nbformat": 4,
 "nbformat_minor": 2
}
