{
 "cells": [
  {
   "cell_type": "code",
   "execution_count": 23,
   "metadata": {},
   "outputs": [],
   "source": [
    "import json"
   ]
  },
  {
   "cell_type": "code",
   "execution_count": 28,
   "metadata": {},
   "outputs": [],
   "source": [
    "def read_har_file(filepath: str) -> list[dict]:\n",
    "    with open(filepath, 'r') as har_file:\n",
    "        return json.load(har_file)['log']['entries']\n",
    "\n",
    "accept_list = read_har_file('zalando.nl_accept.har')\n",
    "reject_list = read_har_file('zalando.nl_reject.har')"
   ]
  },
  {
   "cell_type": "code",
   "execution_count": null,
   "metadata": {},
   "outputs": [],
   "source": [
    "def produce_dict(har_content: list[dict]) -> dict:\n",
    "    result_dict = {}\n",
    "    result_dict['num_reqs'] = len(har_content)\n",
    "    result_dict['num_requests_w_cookies'] = \n"
   ]
  }
 ],
 "metadata": {
  "kernelspec": {
   "display_name": "main_env",
   "language": "python",
   "name": "python3"
  },
  "language_info": {
   "codemirror_mode": {
    "name": "ipython",
    "version": 3
   },
   "file_extension": ".py",
   "mimetype": "text/x-python",
   "name": "python",
   "nbconvert_exporter": "python",
   "pygments_lexer": "ipython3",
   "version": "3.10.4"
  }
 },
 "nbformat": 4,
 "nbformat_minor": 2
}
